{
  "nbformat": 4,
  "nbformat_minor": 0,
  "metadata": {
    "colab": {
      "provenance": [],
      "toc_visible": true
    },
    "kernelspec": {
      "name": "python3",
      "display_name": "Python 3"
    },
    "language_info": {
      "name": "python"
    }
  },
  "cells": [
    {
      "cell_type": "code",
      "execution_count": 3,
      "metadata": {
        "colab": {
          "base_uri": "https://localhost:8080/"
        },
        "id": "MUNaSh8xfeGA",
        "outputId": "1174a0fe-aebc-4be3-bb89-441ddf5ee012"
      },
      "outputs": [
        {
          "output_type": "stream",
          "name": "stdout",
          "text": [
            "Estado de la solución: Optimal\n",
            "Costo total mínimo: $49980.00\n",
            "\n",
            "Producción mes 1: 100.00\n",
            "Inventario mes 1: 0.00\n",
            "Producción mes 2: 440.00\n",
            "Inventario mes 2: 190.00\n",
            "Producción mes 3: 0.00\n",
            "Inventario mes 3: 0.00\n",
            "Producción mes 4: 140.00\n",
            "Inventario mes 4: 0.00\n",
            "Producción mes 5: 220.00\n",
            "Inventario mes 5: 0.00\n",
            "Producción mes 6: 110.00\n",
            "Inventario mes 6: 0.00\n"
          ]
        }
      ],
      "source": [
        "### Modelo de producción en inventario durante periodos múltiples ###\n",
        "\n",
        "# Instalar a siguiente paqueteria si el codigo marca error:\n",
        "# !pip install pulp\n",
        "\n",
        "import pulp\n",
        "\n",
        "# Crear el problema de minimización\n",
        "modelo = pulp.LpProblem(\"Produccion_e_Inventario\", pulp.LpMinimize)\n",
        "\n",
        "# Parámetros\n",
        "costo_prod = [50, 45, 55, 48, 52, 50]  # Costo de producción por mes\n",
        "costo_almacen = 8                     # Costo de almacenamiento por ventana\n",
        "demanda = [100, 250, 190, 140, 220, 110]  # Demanda por mes\n",
        "\n",
        "# Variables de decisión\n",
        "x = [pulp.LpVariable(f\"x{i+1}\", lowBound=0) for i in range(6)]  # Producción\n",
        "I = [pulp.LpVariable(f\"I{i+1}\", lowBound=0) for i in range(6)]  # Inventario\n",
        "\n",
        "# Función objetivo: Costo total = producción + almacenamiento\n",
        "modelo += (\n",
        "    pulp.lpSum([costo_prod[i] * x[i] for i in range(6)]) +\n",
        "    costo_almacen * pulp.lpSum([I[i] for i in range(6)])\n",
        ")\n",
        "\n",
        "# Restricciones de inventario\n",
        "modelo += x[0] - I[0] == demanda[0]\n",
        "for i in range(1, 6):\n",
        "    if i == 5:\n",
        "        modelo += I[i-1] + x[i] == demanda[i]  # Inventario final es cero\n",
        "    else:\n",
        "        modelo += I[i-1] + x[i] - I[i] == demanda[i]\n",
        "\n",
        "# Resolver el problema\n",
        "modelo.solve()\n",
        "\n",
        "# Resultados\n",
        "print(f\"Estado de la solución: {pulp.LpStatus[modelo.status]}\")\n",
        "print(f\"Costo total mínimo: ${pulp.value(modelo.objective):.2f}\\n\")\n",
        "for i in range(6):\n",
        "    print(f\"Producción mes {i+1}: {x[i].varValue:.2f}\")\n",
        "    print(f\"Inventario mes {i+1}: {I[i].varValue:.2f}\")\n"
      ]
    }
  ]
}