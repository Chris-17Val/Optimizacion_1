{
  "nbformat": 4,
  "nbformat_minor": 0,
  "metadata": {
    "colab": {
      "provenance": [],
      "toc_visible": true
    },
    "kernelspec": {
      "name": "python3",
      "display_name": "Python 3"
    },
    "language_info": {
      "name": "python"
    }
  },
  "cells": [
    {
      "cell_type": "code",
      "execution_count": 3,
      "metadata": {
        "colab": {
          "base_uri": "https://localhost:8080/"
        },
        "id": "28N7giXfXl7Q",
        "outputId": "e53d40ca-8672-4bec-f8fc-935fea078fef"
      },
      "outputs": [
        {
          "output_type": "stream",
          "name": "stdout",
          "text": [
            "Estado: Optimal\n",
            "Utilidad neta óptima: 64625.0\n",
            "\n",
            "Producción x1: 800.00\n",
            "Escasez S1: 0.00\n",
            "Producción x2: 750.00\n",
            "Escasez S2: 0.00\n",
            "Producción x3: 387.50\n",
            "Escasez S3: 212.50\n",
            "Producción x4: 500.00\n",
            "Escasez S4: 0.00\n"
          ]
        }
      ],
      "source": [
        "### Modelo de produccion de un periodo unico ###\n",
        "\n",
        "# Instalar a siguiente paqueteria si el codigo marca error:\n",
        "#!pip install pulp\n",
        "\n",
        "import pulp\n",
        "\n",
        "# Crear el problema de maximización\n",
        "modelo = pulp.LpProblem(\"Producción_Ropa\", pulp.LpMaximize)\n",
        "\n",
        "# Definición de variables de decisión\n",
        "x = [pulp.LpVariable(f\"x{i+1}\", lowBound=0) for i in range(4)]  # Producción\n",
        "s = [pulp.LpVariable(f\"S{i+1}\", lowBound=0) for i in range(4)]  # Escasez\n",
        "\n",
        "# Parámetros\n",
        "utilidad = [30, 40, 20, 10]\n",
        "penalizacion = [15, 20, 10, 8]\n",
        "demanda = [800, 750, 600, 500]\n",
        "\n",
        "# Matriz de tiempos por departamento\n",
        "tiempos = [\n",
        "    [0.30, 0.30, 0.25, 0.15],  # Corte\n",
        "    [0.25, 0.35, 0.30, 0.10],  # Aislamiento\n",
        "    [0.45, 0.50, 0.40, 0.22],  # Costura\n",
        "    [0.15, 0.15, 0.10, 0.05]   # Empaque\n",
        "]\n",
        "\n",
        "capacidad = 1000\n",
        "\n",
        "# Función objetivo: Maximizar utilidad neta\n",
        "modelo += pulp.lpSum([utilidad[i] * x[i] for i in range(4)]) - pulp.lpSum([penalizacion[i] * s[i] for i in range(4)])\n",
        "\n",
        "# Restricciones de capacidad por departamento\n",
        "for dept in range(4):\n",
        "    modelo += pulp.lpSum([tiempos[dept][i] * x[i] for i in range(4)]) <= capacidad\n",
        "\n",
        "# Restricciones de demanda\n",
        "for i in range(4):\n",
        "    modelo += x[i] + s[i] == demanda[i]\n",
        "\n",
        "# Resolver el problema\n",
        "modelo.solve()\n",
        "\n",
        "# Resultados\n",
        "print(f\"Estado: {pulp.LpStatus[modelo.status]}\")\n",
        "print(f\"Utilidad neta óptima: {pulp.value(modelo.objective)}\\n\")\n",
        "for i in range(4):\n",
        "    print(f\"Producción x{i+1}: {x[i].varValue:.2f}\")\n",
        "    print(f\"Escasez S{i+1}: {s[i].varValue:.2f}\")\n"
      ]
    }
  ]
}