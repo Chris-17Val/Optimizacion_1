{
  "nbformat": 4,
  "nbformat_minor": 0,
  "metadata": {
    "colab": {
      "provenance": []
    },
    "kernelspec": {
      "name": "python3",
      "display_name": "Python 3"
    },
    "language_info": {
      "name": "python"
    }
  },
  "cells": [
    {
      "cell_type": "code",
      "execution_count": 5,
      "metadata": {
        "colab": {
          "base_uri": "https://localhost:8080/"
        },
        "id": "cgiBldoZllpC",
        "outputId": "d8df8440-a8c4-4949-b742-a07aa2da8359"
      },
      "outputs": [
        {
          "output_type": "stream",
          "name": "stdout",
          "text": [
            "Requirement already satisfied: pulp in /usr/local/lib/python3.11/dist-packages (3.0.2)\n",
            "Estado de la solución: Optimal\n",
            "Costo total mínimo: $19,500.00\n",
            "\n",
            "Mes 1: Temporales = 50.00, Contrata = 50.00, Despide = 0.00, Inventario = 100.00\n",
            "Mes 2: Temporales = 50.00, Contrata = 0.00, Despide = 0.00, Inventario = 0.00\n",
            "Mes 3: Temporales = 45.00, Contrata = 0.00, Despide = 5.00, Inventario = 50.00\n",
            "Mes 4: Temporales = 45.00, Contrata = 0.00, Despide = 0.00, Inventario = 0.00\n"
          ]
        }
      ],
      "source": [
        "### Modelo de nivelación de la producción para múltiples periodos ###\n",
        "\n",
        "# Instalar a siguiente paqueteria si el codigo marca error:\n",
        "!pip install pulp\n",
        "\n",
        "import pulp\n",
        "\n",
        "# Crear el modelo de minimización\n",
        "modelo = pulp.LpProblem(\"Nivelacion_Produccion\", pulp.LpMinimize)\n",
        "\n",
        "# Parámetros\n",
        "demanda = [400, 600, 400, 500]  # Demanda ajustada restando producción fija (10 empleados * 12)\n",
        "costo_contratacion = 200\n",
        "costo_despido = 400\n",
        "costo_almacen = 50\n",
        "p_temporal = 10  # Producción por trabajador temporal\n",
        "n_periodos = 4\n",
        "\n",
        "# Variables de decisión\n",
        "x = [pulp.LpVariable(f\"x{i+1}\", lowBound=0) for i in range(n_periodos)]    # Temporales en el mes i\n",
        "S_contrata = [pulp.LpVariable(f\"S_contrata{i+1}\", lowBound=0) for i in range(n_periodos)]\n",
        "S_despide = [pulp.LpVariable(f\"S_despide{i+1}\", lowBound=0) for i in range(n_periodos)]\n",
        "I = [pulp.LpVariable(f\"I{i+1}\", lowBound=0) for i in range(n_periodos)]\n",
        "\n",
        "# Función objetivo: minimizar costos\n",
        "modelo += (\n",
        "    costo_contratacion * pulp.lpSum(S_contrata) +\n",
        "    costo_despido * pulp.lpSum(S_despide) +\n",
        "    costo_almacen * pulp.lpSum(I)\n",
        ")\n",
        "\n",
        "# Restricciones de inventario / demanda ajustada\n",
        "modelo += p_temporal * x[0] - I[0] == demanda[0]\n",
        "for i in range(1, n_periodos):\n",
        "    modelo += I[i-1] + p_temporal * x[i] - I[i] == demanda[i]\n",
        "\n",
        "# Restricciones de trabajadores (dinámica de contratación / despido)\n",
        "modelo += x[0] == S_contrata[0] - S_despide[0]\n",
        "for i in range(1, n_periodos):\n",
        "    modelo += x[i] == x[i-1] + S_contrata[i] - S_despide[i]\n",
        "\n",
        "# Resolver el modelo\n",
        "modelo.solve()\n",
        "\n",
        "# Resultados\n",
        "print(f\"Estado de la solución: {pulp.LpStatus[modelo.status]}\")\n",
        "print(f\"Costo total mínimo: ${pulp.value(modelo.objective):,.2f}\\n\")\n",
        "\n",
        "for i in range(n_periodos):\n",
        "    print(f\"Mes {i+1}: Temporales = {x[i].varValue:.2f}, Contrata = {S_contrata[i].varValue:.2f}, Despide = {S_despide[i].varValue:.2f}, Inventario = {I[i].varValue:.2f}\")\n"
      ]
    }
  ]
}